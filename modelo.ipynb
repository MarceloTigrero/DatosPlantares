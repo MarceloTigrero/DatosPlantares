{
 "cells": [
  {
   "cell_type": "code",
   "execution_count": 1,
   "metadata": {},
   "outputs": [],
   "source": [
    "import tensorflow as tf\n",
    "import numpy as np\n",
    "import matplotlib.pyplot as plt\n",
    "import pandas as pd\n",
    "\n",
    "import os\n"
   ]
  },
  {
   "cell_type": "code",
   "execution_count": 2,
   "metadata": {},
   "outputs": [],
   "source": [
    "from sklearn.model_selection import train_test_split\n",
    "from keras.layers import Dense\n",
    "from keras.models import Sequential\n",
    "from tensorflow.keras import utils, optimizers\n",
    "from tensorflow import lite"
   ]
  },
  {
   "cell_type": "code",
   "execution_count": 3,
   "metadata": {},
   "outputs": [],
   "source": [
    "# Open the Recoleccion1 folder\n",
    "os.chdir(\"Recoleccion1\")\n",
    "# Get the list of files in the folder\n",
    "files = os.listdir()\n",
    "#len(files)"
   ]
  },
  {
   "cell_type": "code",
   "execution_count": 111,
   "metadata": {},
   "outputs": [],
   "source": [
    "alldatos =[]\n",
    "rmsdatos=[]\n",
    "for x in range(0,len(files)):\n",
    "    # print(files[x])\n",
    "    # Open the file for reading\n",
    "    csv = open(files[x], \"r\")\n",
    "    \n",
    "    # agregar los datos del archivo a la matriz\n",
    "    #alldatos.append(csv.read().splitlines())\n",
    "    try:\n",
    "        new_list = [int(element) for element in csv.read().splitlines()]\n",
    "    except (ValueError, TypeError):\n",
    "        for element in csv.read().splitlines():\n",
    "            try:\n",
    "                sf = int(element)\n",
    "            except (ValueError, TypeError):\n",
    "                sf = 0\n",
    "            finally:\n",
    "                new_list.append(sf)\n",
    "    finally:\n",
    "        alldatos.append(np.mean(new_list))\n",
    "    # Close the file\n",
    "    csv.close()\n",
    "        \n",
    "    #intento 1\n",
    "    #alldatos.append(list(map(int,csv.read().splitlines())))\n",
    "    #intento 2\n",
    "    #new_list = [int(element) for element in csv.read().splitlines()]\n",
    "    #alldatos.append(new_list)\n",
    "\n",
    "datosinput= np.array(alldatos)"
   ]
  },
  {
   "cell_type": "code",
   "execution_count": 112,
   "metadata": {},
   "outputs": [
    {
     "data": {
      "text/plain": [
       "(601,)"
      ]
     },
     "execution_count": 112,
     "metadata": {},
     "output_type": "execute_result"
    }
   ],
   "source": [
    "datosinput\n",
    "datosinput.shape"
   ]
  },
  {
   "cell_type": "code",
   "execution_count": 113,
   "metadata": {},
   "outputs": [
    {
     "data": {
      "text/plain": [
       "1620.0239520958085"
      ]
     },
     "execution_count": 113,
     "metadata": {},
     "output_type": "execute_result"
    }
   ],
   "source": [
    "# estraccion de caracteristicas\n",
    "#len(datosinput[0])\n",
    "\n",
    "#for x in range(0,len(datosinput[0])):\n",
    "#    print(datosinput[0][x])\n",
    "\n",
    "# valores promedio de un array\n",
    "np.mean(datosinput[0])"
   ]
  },
  {
   "cell_type": "code",
   "execution_count": 114,
   "metadata": {},
   "outputs": [],
   "source": [
    "allresults = []\n",
    "#########\n",
    "# Down                  High \n",
    "#0     H                #66.6  L\n",
    "#16.6  N    #50  B      #83.3  N\n",
    "#33.3  L                #100   H\n",
    "#########\n",
    "for x in range(0,len(files)):\n",
    "    text = files[x].split(\"_\")[0]\n",
    "    if text[len(text)-1] == \"B\":\n",
    "        allresults.append(0)\n",
    "    else :\n",
    "        #print(text[len(text)-2:])\n",
    "        # switch case\n",
    "        if text[len(text)-2:] == \"UH\":\n",
    "            allresults.append(100)\n",
    "        elif text[len(text)-2:] == \"UN\":\n",
    "            allresults.append(83.3)\n",
    "        elif text[len(text)-2:] == \"UL\":\n",
    "            allresults.append(66.6)\n",
    "        elif text[len(text)-2:] == \"DL\":\n",
    "            allresults.append(33.3)\n",
    "        elif text[len(text)-2:] == \"DN\":\n",
    "            allresults.append(16.6)\n",
    "        elif text[len(text)-2:] == \"DH\":\n",
    "            allresults.append(0)\n",
    "datosoutput = np.array(allresults)\n"
   ]
  },
  {
   "cell_type": "code",
   "execution_count": 115,
   "metadata": {},
   "outputs": [
    {
     "data": {
      "text/plain": [
       "(601,)"
      ]
     },
     "execution_count": 115,
     "metadata": {},
     "output_type": "execute_result"
    }
   ],
   "source": [
    "datosoutput\n",
    "datosoutput.shape"
   ]
  },
  {
   "cell_type": "code",
   "execution_count": 116,
   "metadata": {},
   "outputs": [
    {
     "name": "stdout",
     "output_type": "stream",
     "text": [
      "(480,)\n",
      "(121,)\n",
      "(480,)\n",
      "(121,)\n"
     ]
    }
   ],
   "source": [
    "# datos de entrenamiento\n",
    "x_train, x_test, y_train, y_test = train_test_split(datosinput, datosoutput, test_size=0.2)\n",
    "print(x_train.shape)\n",
    "print(x_test.shape)\n",
    "print(y_train.shape)\n",
    "print(y_test.shape)"
   ]
  },
  {
   "cell_type": "code",
   "execution_count": 117,
   "metadata": {},
   "outputs": [
    {
     "name": "stdout",
     "output_type": "stream",
     "text": [
      "eyes\n"
     ]
    },
    {
     "data": {
      "text/plain": [
       "array([ 66.6,   0. ,  16.6,  33.3,  16.6,   0. , 100. ,  83.3,  33.3,\n",
       "        16.6,  33.3,  83.3,  83.3,  83.3,   0. ,   0. ,   0. ,  66.6,\n",
       "         0. ,  33.3,  66.6,  66.6,  66.6,  83.3,  33.3,   0. ,  33.3,\n",
       "        33.3,  83.3,  33.3,   0. ,  33.3,  33.3, 100. ,   0. ,   0. ,\n",
       "         0. ,  16.6,   0. ,  33.3,  66.6,  16.6,  66.6,  66.6,  83.3,\n",
       "         0. ,  16.6,  16.6,  66.6,   0. ,  16.6,   0. ,   0. , 100. ,\n",
       "        66.6,   0. ,  33.3, 100. ,  83.3,   0. ,  66.6,  66.6,  33.3,\n",
       "        16.6,  83.3,  66.6,  83.3,  33.3,   0. ,  16.6, 100. ,  33.3,\n",
       "       100. ,  66.6,   0. ,   0. ,  83.3,  33.3,  16.6,   0. ,  83.3,\n",
       "        16.6,  83.3,  83.3, 100. ,  83.3,  66.6,   0. ,  33.3,  33.3,\n",
       "        83.3,  83.3,  66.6,   0. ,  16.6,   0. ,   0. , 100. , 100. ,\n",
       "         0. , 100. ,  83.3,   0. , 100. ,   0. ,   0. ,   0. ,  66.6,\n",
       "       100. ,   0. ,  33.3,  16.6,  33.3,  83.3,  16.6, 100. ,  33.3,\n",
       "        83.3,   0. ,  66.6,  83.3, 100. , 100. , 100. ,  33.3,  33.3,\n",
       "        33.3,  66.6,   0. ,  83.3, 100. , 100. ,  66.6,  66.6, 100. ,\n",
       "        83.3,  83.3,  66.6,  83.3,  83.3,  83.3,  16.6,  66.6,  66.6,\n",
       "         0. ,  83.3,  33.3,  83.3,   0. ,  66.6,  33.3, 100. ,  83.3,\n",
       "        33.3, 100. ,   0. ,   0. , 100. ,   0. ,  16.6, 100. ,  66.6,\n",
       "       100. ,   0. , 100. ,  16.6,   0. ,   0. ,  33.3, 100. ,   0. ,\n",
       "        33.3,  33.3,  66.6,  83.3, 100. ,   0. ,  83.3,   0. ,  83.3,\n",
       "        83.3,  16.6,  16.6,  16.6,   0. ,  66.6,  16.6,  16.6,  83.3,\n",
       "        66.6, 100. ,  66.6,  33.3, 100. ,   0. ,   0. ,  16.6,  16.6,\n",
       "        16.6, 100. , 100. ,  66.6,  16.6,   0. ,  83.3,  33.3,  66.6,\n",
       "        16.6,   0. , 100. , 100. ,  33.3,  66.6,   0. ,  33.3,  33.3,\n",
       "        16.6,  33.3,   0. ,   0. ,  83.3,  83.3,  83.3,  83.3,  33.3,\n",
       "        16.6,   0. ,   0. , 100. ,   0. ,  33.3,   0. ,  33.3,   0. ,\n",
       "        16.6,   0. ,   0. ,   0. ,  33.3,  33.3,  33.3,   0. ,   0. ,\n",
       "        83.3,   0. ,  66.6,  33.3,   0. ,  16.6,  83.3,  33.3, 100. ,\n",
       "        33.3,  33.3,  33.3, 100. , 100. ,  16.6,  33.3, 100. , 100. ,\n",
       "         0. , 100. ,  16.6,  66.6,   0. ,   0. ,  66.6,  16.6,  33.3,\n",
       "        33.3,  33.3,   0. , 100. ,  33.3,   0. ,  83.3,  83.3,  83.3,\n",
       "        16.6,  16.6,  83.3,   0. , 100. ,   0. ,  33.3,   0. ,  66.6,\n",
       "        83.3,  16.6,   0. ,   0. ,  16.6,  66.6,  16.6,   0. ,   0. ,\n",
       "        66.6, 100. , 100. ,   0. ,  66.6,  83.3,  83.3,  83.3,  66.6,\n",
       "        66.6,   0. ,  16.6,  83.3,  16.6,   0. ,  16.6,  33.3,  16.6,\n",
       "        33.3,  83.3,   0. ,   0. , 100. ,   0. ,  66.6,  66.6,   0. ,\n",
       "         0. , 100. ,  16.6,  66.6,  33.3,   0. ,  66.6, 100. , 100. ,\n",
       "        16.6, 100. , 100. ,  66.6,  33.3, 100. , 100. ,  16.6,  66.6,\n",
       "         0. ,  83.3,   0. ,  66.6, 100. ,  66.6,  66.6,  66.6,  33.3,\n",
       "       100. ,  66.6,  16.6,   0. ,  83.3,   0. , 100. ,   0. ,  66.6,\n",
       "        83.3,  83.3, 100. ,   0. ,   0. ,  33.3,  33.3, 100. ,  33.3,\n",
       "         0. ,   0. ,   0. ,  66.6,  16.6,  83.3,  33.3,   0. , 100. ,\n",
       "        33.3,  33.3,   0. ,  33.3,  66.6,  33.3,   0. ,  16.6,   0. ,\n",
       "       100. ,   0. ,   0. ,  16.6,   0. ,  66.6, 100. , 100. ,  83.3,\n",
       "         0. , 100. ,   0. ,  33.3,  16.6,  83.3,  33.3,  83.3,  33.3,\n",
       "         0. ,   0. ,  16.6,   0. ,   0. , 100. ,   0. ,   0. ,  66.6,\n",
       "        16.6,   0. ,  16.6,  66.6, 100. ,   0. ,  66.6,  66.6, 100. ,\n",
       "         0. ,  66.6,  33.3,  83.3,  16.6,  66.6,   0. ,  16.6,  16.6,\n",
       "         0. , 100. ,   0. ,  83.3,   0. ,  33.3, 100. , 100. ,  83.3,\n",
       "        33.3,  33.3,  83.3,  66.6,  66.6,   0. ,  83.3,  66.6,   0. ,\n",
       "         0. ,  83.3,  33.3,  83.3,  66.6,  66.6,  33.3,   0. ,  16.6,\n",
       "       100. ,  66.6, 100. ,  83.3,  16.6,   0. ,   0. ,  83.3,   0. ,\n",
       "         0. ,  83.3, 100. ,  66.6,  16.6,  66.6,  66.6,   0. ,  16.6,\n",
       "       100. ,   0. ,  83.3])"
      ]
     },
     "execution_count": 117,
     "metadata": {},
     "output_type": "execute_result"
    }
   ],
   "source": [
    "x_train\n",
    "print(\"eyes\")\n",
    "y_train"
   ]
  },
  {
   "cell_type": "code",
   "execution_count": 74,
   "metadata": {},
   "outputs": [
    {
     "ename": "NameError",
     "evalue": "name 'y_true' is not defined",
     "output_type": "error",
     "traceback": [
      "\u001b[1;31m---------------------------------------------------------------------------\u001b[0m",
      "\u001b[1;31mNameError\u001b[0m                                 Traceback (most recent call last)",
      "\u001b[1;32mc:\\Users\\bryan\\OneDrive\\Escritorio\\I_PAO_2022_8vo\\EMG\\Adquisision_de_datos\\Adquisicion\\Marcelo_Melany_acquisition\\modelo.ipynb Cell 10\u001b[0m in \u001b[0;36m<cell line: 4>\u001b[1;34m()\u001b[0m\n\u001b[0;32m      <a href='vscode-notebook-cell:/c%3A/Users/bryan/OneDrive/Escritorio/I_PAO_2022_8vo/EMG/Adquisision_de_datos/Adquisicion/Marcelo_Melany_acquisition/modelo.ipynb#X21sZmlsZQ%3D%3D?line=1'>2</a>\u001b[0m \u001b[39mdef\u001b[39;00m \u001b[39mrmse\u001b[39m(y_true, y_pred):\n\u001b[0;32m      <a href='vscode-notebook-cell:/c%3A/Users/bryan/OneDrive/Escritorio/I_PAO_2022_8vo/EMG/Adquisision_de_datos/Adquisicion/Marcelo_Melany_acquisition/modelo.ipynb#X21sZmlsZQ%3D%3D?line=2'>3</a>\u001b[0m     \u001b[39mreturn\u001b[39;00m K\u001b[39m.\u001b[39msqrt(K\u001b[39m.\u001b[39mmean(K\u001b[39m.\u001b[39msquare(y_pred \u001b[39m-\u001b[39m y_true)))\n\u001b[1;32m----> <a href='vscode-notebook-cell:/c%3A/Users/bryan/OneDrive/Escritorio/I_PAO_2022_8vo/EMG/Adquisision_de_datos/Adquisicion/Marcelo_Melany_acquisition/modelo.ipynb#X21sZmlsZQ%3D%3D?line=3'>4</a>\u001b[0m rmse(y_true, y_pred)\n",
      "\u001b[1;31mNameError\u001b[0m: name 'y_true' is not defined"
     ]
    }
   ],
   "source": [
    "# serch rmse\n",
    "def rmse(y_true, y_pred):\n",
    "    return K.sqrt(K.mean(K.square(y_pred - y_true)))\n"
   ]
  },
  {
   "cell_type": "code",
   "execution_count": 118,
   "metadata": {},
   "outputs": [
    {
     "ename": "TypeError",
     "evalue": "'int' object is not iterable",
     "output_type": "error",
     "traceback": [
      "\u001b[1;31m---------------------------------------------------------------------------\u001b[0m",
      "\u001b[1;31mTypeError\u001b[0m                                 Traceback (most recent call last)",
      "\u001b[1;32mc:\\Users\\bryan\\OneDrive\\Escritorio\\I_PAO_2022_8vo\\EMG\\Adquisision_de_datos\\Adquisicion\\Marcelo_Melany_acquisition\\modelo.ipynb Cell 12\u001b[0m in \u001b[0;36m<cell line: 2>\u001b[1;34m()\u001b[0m\n\u001b[0;32m      <a href='vscode-notebook-cell:/c%3A/Users/bryan/OneDrive/Escritorio/I_PAO_2022_8vo/EMG/Adquisision_de_datos/Adquisicion/Marcelo_Melany_acquisition/modelo.ipynb#W4sZmlsZQ%3D%3D?line=0'>1</a>\u001b[0m \u001b[39m# define the model\u001b[39;00m\n\u001b[1;32m----> <a href='vscode-notebook-cell:/c%3A/Users/bryan/OneDrive/Escritorio/I_PAO_2022_8vo/EMG/Adquisision_de_datos/Adquisicion/Marcelo_Melany_acquisition/modelo.ipynb#W4sZmlsZQ%3D%3D?line=1'>2</a>\u001b[0m inputlayer \u001b[39m=\u001b[39m tf\u001b[39m.\u001b[39;49mkeras\u001b[39m.\u001b[39;49mlayers\u001b[39m.\u001b[39;49mDense(units\u001b[39m=\u001b[39;49m\u001b[39m1\u001b[39;49m, input_shape\u001b[39m=\u001b[39;49m\u001b[39m1\u001b[39;49m,  activation\u001b[39m=\u001b[39;49m\u001b[39m'\u001b[39;49m\u001b[39mrelu\u001b[39;49m\u001b[39m'\u001b[39;49m)\u001b[39m#input_shape=1, #(caracteristicas)rms como intput \u001b[39;00m\n\u001b[0;32m      <a href='vscode-notebook-cell:/c%3A/Users/bryan/OneDrive/Escritorio/I_PAO_2022_8vo/EMG/Adquisision_de_datos/Adquisicion/Marcelo_Melany_acquisition/modelo.ipynb#W4sZmlsZQ%3D%3D?line=2'>3</a>\u001b[0m \u001b[39m#oculta2 = tf.keras.layers.Dense(units=500, activation='relu')#datosinput.shape[0]\u001b[39;00m\n\u001b[0;32m      <a href='vscode-notebook-cell:/c%3A/Users/bryan/OneDrive/Escritorio/I_PAO_2022_8vo/EMG/Adquisision_de_datos/Adquisicion/Marcelo_Melany_acquisition/modelo.ipynb#W4sZmlsZQ%3D%3D?line=3'>4</a>\u001b[0m oculta \u001b[39m=\u001b[39m tf\u001b[39m.\u001b[39mkeras\u001b[39m.\u001b[39mlayers\u001b[39m.\u001b[39mDense(units\u001b[39m=\u001b[39m\u001b[39m7\u001b[39m, activation\u001b[39m=\u001b[39m\u001b[39m'\u001b[39m\u001b[39msoftmax\u001b[39m\u001b[39m'\u001b[39m)\n",
      "File \u001b[1;32mc:\\Users\\bryan\\AppData\\Local\\Programs\\Python\\Python310\\lib\\site-packages\\keras\\dtensor\\utils.py:95\u001b[0m, in \u001b[0;36mallow_initializer_layout.<locals>._wrap_function\u001b[1;34m(layer_instance, *args, **kwargs)\u001b[0m\n\u001b[0;32m     92\u001b[0m     \u001b[39mif\u001b[39;00m layout:\n\u001b[0;32m     93\u001b[0m       layout_args[variable_name \u001b[39m+\u001b[39m \u001b[39m\"\u001b[39m\u001b[39m_layout\u001b[39m\u001b[39m\"\u001b[39m] \u001b[39m=\u001b[39m layout\n\u001b[1;32m---> 95\u001b[0m init_method(layer_instance, \u001b[39m*\u001b[39margs, \u001b[39m*\u001b[39m\u001b[39m*\u001b[39mkwargs)\n\u001b[0;32m     97\u001b[0m \u001b[39m# Inject the layout parameter after the invocation of __init__()\u001b[39;00m\n\u001b[0;32m     98\u001b[0m \u001b[39mfor\u001b[39;00m layout_param_name, layout \u001b[39min\u001b[39;00m layout_args\u001b[39m.\u001b[39mitems():\n",
      "File \u001b[1;32mc:\\Users\\bryan\\AppData\\Local\\Programs\\Python\\Python310\\lib\\site-packages\\keras\\layers\\core\\dense.py:113\u001b[0m, in \u001b[0;36mDense.__init__\u001b[1;34m(self, units, activation, use_bias, kernel_initializer, bias_initializer, kernel_regularizer, bias_regularizer, activity_regularizer, kernel_constraint, bias_constraint, **kwargs)\u001b[0m\n\u001b[0;32m    100\u001b[0m \u001b[39m@utils\u001b[39m\u001b[39m.\u001b[39mallow_initializer_layout\n\u001b[0;32m    101\u001b[0m \u001b[39mdef\u001b[39;00m \u001b[39m__init__\u001b[39m(\u001b[39mself\u001b[39m,\n\u001b[0;32m    102\u001b[0m              units,\n\u001b[1;32m   (...)\u001b[0m\n\u001b[0;32m    111\u001b[0m              bias_constraint\u001b[39m=\u001b[39m\u001b[39mNone\u001b[39;00m,\n\u001b[0;32m    112\u001b[0m              \u001b[39m*\u001b[39m\u001b[39m*\u001b[39mkwargs):\n\u001b[1;32m--> 113\u001b[0m   \u001b[39msuper\u001b[39m(Dense, \u001b[39mself\u001b[39m)\u001b[39m.\u001b[39m\u001b[39m__init__\u001b[39m(\n\u001b[0;32m    114\u001b[0m       activity_regularizer\u001b[39m=\u001b[39mactivity_regularizer, \u001b[39m*\u001b[39m\u001b[39m*\u001b[39mkwargs)\n\u001b[0;32m    116\u001b[0m   \u001b[39mself\u001b[39m\u001b[39m.\u001b[39munits \u001b[39m=\u001b[39m \u001b[39mint\u001b[39m(units) \u001b[39mif\u001b[39;00m \u001b[39mnot\u001b[39;00m \u001b[39misinstance\u001b[39m(units, \u001b[39mint\u001b[39m) \u001b[39melse\u001b[39;00m units\n\u001b[0;32m    117\u001b[0m   \u001b[39mif\u001b[39;00m \u001b[39mself\u001b[39m\u001b[39m.\u001b[39munits \u001b[39m<\u001b[39m \u001b[39m0\u001b[39m:\n",
      "File \u001b[1;32mc:\\Users\\bryan\\AppData\\Local\\Programs\\Python\\Python310\\lib\\site-packages\\tensorflow\\python\\training\\tracking\\base.py:587\u001b[0m, in \u001b[0;36mno_automatic_dependency_tracking.<locals>._method_wrapper\u001b[1;34m(self, *args, **kwargs)\u001b[0m\n\u001b[0;32m    585\u001b[0m \u001b[39mself\u001b[39m\u001b[39m.\u001b[39m_self_setattr_tracking \u001b[39m=\u001b[39m \u001b[39mFalse\u001b[39;00m  \u001b[39m# pylint: disable=protected-access\u001b[39;00m\n\u001b[0;32m    586\u001b[0m \u001b[39mtry\u001b[39;00m:\n\u001b[1;32m--> 587\u001b[0m   result \u001b[39m=\u001b[39m method(\u001b[39mself\u001b[39m, \u001b[39m*\u001b[39margs, \u001b[39m*\u001b[39m\u001b[39m*\u001b[39mkwargs)\n\u001b[0;32m    588\u001b[0m \u001b[39mfinally\u001b[39;00m:\n\u001b[0;32m    589\u001b[0m   \u001b[39mself\u001b[39m\u001b[39m.\u001b[39m_self_setattr_tracking \u001b[39m=\u001b[39m previous_value  \u001b[39m# pylint: disable=protected-access\u001b[39;00m\n",
      "File \u001b[1;32mc:\\Users\\bryan\\AppData\\Local\\Programs\\Python\\Python310\\lib\\site-packages\\keras\\engine\\base_layer.py:433\u001b[0m, in \u001b[0;36mLayer.__init__\u001b[1;34m(self, trainable, name, dtype, dynamic, **kwargs)\u001b[0m\n\u001b[0;32m    431\u001b[0m     \u001b[39melse\u001b[39;00m:\n\u001b[0;32m    432\u001b[0m       batch_size \u001b[39m=\u001b[39m \u001b[39mNone\u001b[39;00m\n\u001b[1;32m--> 433\u001b[0m     batch_input_shape \u001b[39m=\u001b[39m (batch_size,) \u001b[39m+\u001b[39m \u001b[39mtuple\u001b[39;49m(kwargs[\u001b[39m'\u001b[39;49m\u001b[39minput_shape\u001b[39;49m\u001b[39m'\u001b[39;49m])\n\u001b[0;32m    434\u001b[0m   \u001b[39mself\u001b[39m\u001b[39m.\u001b[39m_batch_input_shape \u001b[39m=\u001b[39m batch_input_shape\n\u001b[0;32m    436\u001b[0m \u001b[39m# Manage initial weight values if passed.\u001b[39;00m\n",
      "\u001b[1;31mTypeError\u001b[0m: 'int' object is not iterable"
     ]
    }
   ],
   "source": [
    "# define the model\n",
    "inputlayer = tf.keras.layers.Dense(units=1, input_shape=1,  activation='relu')#input_shape=1, #(caracteristicas)rms como intput \n",
    "#oculta2 = tf.keras.layers.Dense(units=500, activation='relu')#datosinput.shape[0]\n",
    "oculta = tf.keras.layers.Dense(units=7, activation='softmax')\n",
    "salida = tf.keras.layers.Dense(units=1)\n",
    "modelo = tf.keras.Sequential([inputlayer, oculta, salida])"
   ]
  },
  {
   "cell_type": "code",
   "execution_count": 104,
   "metadata": {},
   "outputs": [],
   "source": [
    "modelo.compile(\n",
    "    optimizer=tf.keras.optimizers.Adam(0.1),\n",
    "    loss='mean_squared_error'\n",
    ")"
   ]
  },
  {
   "cell_type": "code",
   "execution_count": 105,
   "metadata": {},
   "outputs": [
    {
     "name": "stdout",
     "output_type": "stream",
     "text": [
      "Comenzando entrenamiento...\n",
      "Epoch 1/100\n"
     ]
    },
    {
     "ename": "ValueError",
     "evalue": "in user code:\n\n    File \"c:\\Users\\bryan\\AppData\\Local\\Programs\\Python\\Python310\\lib\\site-packages\\keras\\engine\\training.py\", line 1051, in train_function  *\n        return step_function(self, iterator)\n    File \"c:\\Users\\bryan\\AppData\\Local\\Programs\\Python\\Python310\\lib\\site-packages\\keras\\engine\\training.py\", line 1040, in step_function  **\n        outputs = model.distribute_strategy.run(run_step, args=(data,))\n    File \"c:\\Users\\bryan\\AppData\\Local\\Programs\\Python\\Python310\\lib\\site-packages\\keras\\engine\\training.py\", line 1030, in run_step  **\n        outputs = model.train_step(data)\n    File \"c:\\Users\\bryan\\AppData\\Local\\Programs\\Python\\Python310\\lib\\site-packages\\keras\\engine\\training.py\", line 889, in train_step\n        y_pred = self(x, training=True)\n    File \"c:\\Users\\bryan\\AppData\\Local\\Programs\\Python\\Python310\\lib\\site-packages\\keras\\utils\\traceback_utils.py\", line 67, in error_handler\n        raise e.with_traceback(filtered_tb) from None\n    File \"c:\\Users\\bryan\\AppData\\Local\\Programs\\Python\\Python310\\lib\\site-packages\\keras\\engine\\input_spec.py\", line 228, in assert_input_compatibility\n        raise ValueError(f'Input {input_index} of layer \"{layer_name}\" '\n\n    ValueError: Exception encountered when calling layer \"sequential_4\" (type Sequential).\n    \n    Input 0 of layer \"dense_15\" is incompatible with the layer: expected min_ndim=2, found ndim=1. Full shape received: (32,)\n    \n    Call arguments received by layer \"sequential_4\" (type Sequential):\n      • inputs=tf.Tensor(shape=(32,), dtype=float32)\n      • training=True\n      • mask=None\n",
     "output_type": "error",
     "traceback": [
      "\u001b[1;31m---------------------------------------------------------------------------\u001b[0m",
      "\u001b[1;31mValueError\u001b[0m                                Traceback (most recent call last)",
      "\u001b[1;32mc:\\Users\\bryan\\OneDrive\\Escritorio\\I_PAO_2022_8vo\\EMG\\Adquisision_de_datos\\Adquisicion\\Marcelo_Melany_acquisition\\modelo.ipynb Cell 14\u001b[0m in \u001b[0;36m<cell line: 2>\u001b[1;34m()\u001b[0m\n\u001b[0;32m      <a href='vscode-notebook-cell:/c%3A/Users/bryan/OneDrive/Escritorio/I_PAO_2022_8vo/EMG/Adquisision_de_datos/Adquisicion/Marcelo_Melany_acquisition/modelo.ipynb#X15sZmlsZQ%3D%3D?line=0'>1</a>\u001b[0m \u001b[39mprint\u001b[39m(\u001b[39m\"\u001b[39m\u001b[39mComenzando entrenamiento...\u001b[39m\u001b[39m\"\u001b[39m)\n\u001b[1;32m----> <a href='vscode-notebook-cell:/c%3A/Users/bryan/OneDrive/Escritorio/I_PAO_2022_8vo/EMG/Adquisision_de_datos/Adquisicion/Marcelo_Melany_acquisition/modelo.ipynb#X15sZmlsZQ%3D%3D?line=1'>2</a>\u001b[0m historial \u001b[39m=\u001b[39m modelo\u001b[39m.\u001b[39;49mfit(x_train, y_train, epochs\u001b[39m=\u001b[39;49m\u001b[39m100\u001b[39;49m )\u001b[39m#verbose=1\u001b[39;00m\n\u001b[0;32m      <a href='vscode-notebook-cell:/c%3A/Users/bryan/OneDrive/Escritorio/I_PAO_2022_8vo/EMG/Adquisision_de_datos/Adquisicion/Marcelo_Melany_acquisition/modelo.ipynb#X15sZmlsZQ%3D%3D?line=2'>3</a>\u001b[0m \u001b[39mprint\u001b[39m(\u001b[39m\"\u001b[39m\u001b[39mModelo entrenado!\u001b[39m\u001b[39m\"\u001b[39m)\n",
      "File \u001b[1;32mc:\\Users\\bryan\\AppData\\Local\\Programs\\Python\\Python310\\lib\\site-packages\\keras\\utils\\traceback_utils.py:67\u001b[0m, in \u001b[0;36mfilter_traceback.<locals>.error_handler\u001b[1;34m(*args, **kwargs)\u001b[0m\n\u001b[0;32m     65\u001b[0m \u001b[39mexcept\u001b[39;00m \u001b[39mException\u001b[39;00m \u001b[39mas\u001b[39;00m e:  \u001b[39m# pylint: disable=broad-except\u001b[39;00m\n\u001b[0;32m     66\u001b[0m   filtered_tb \u001b[39m=\u001b[39m _process_traceback_frames(e\u001b[39m.\u001b[39m__traceback__)\n\u001b[1;32m---> 67\u001b[0m   \u001b[39mraise\u001b[39;00m e\u001b[39m.\u001b[39mwith_traceback(filtered_tb) \u001b[39mfrom\u001b[39;00m \u001b[39mNone\u001b[39m\n\u001b[0;32m     68\u001b[0m \u001b[39mfinally\u001b[39;00m:\n\u001b[0;32m     69\u001b[0m   \u001b[39mdel\u001b[39;00m filtered_tb\n",
      "File \u001b[1;32m~\\AppData\\Local\\Temp\\__autograph_generated_filet3zbi4bc.py:15\u001b[0m, in \u001b[0;36mouter_factory.<locals>.inner_factory.<locals>.tf__train_function\u001b[1;34m(iterator)\u001b[0m\n\u001b[0;32m     13\u001b[0m \u001b[39mtry\u001b[39;00m:\n\u001b[0;32m     14\u001b[0m     do_return \u001b[39m=\u001b[39m \u001b[39mTrue\u001b[39;00m\n\u001b[1;32m---> 15\u001b[0m     retval_ \u001b[39m=\u001b[39m ag__\u001b[39m.\u001b[39mconverted_call(ag__\u001b[39m.\u001b[39mld(step_function), (ag__\u001b[39m.\u001b[39mld(\u001b[39mself\u001b[39m), ag__\u001b[39m.\u001b[39mld(iterator)), \u001b[39mNone\u001b[39;00m, fscope)\n\u001b[0;32m     16\u001b[0m \u001b[39mexcept\u001b[39;00m:\n\u001b[0;32m     17\u001b[0m     do_return \u001b[39m=\u001b[39m \u001b[39mFalse\u001b[39;00m\n",
      "\u001b[1;31mValueError\u001b[0m: in user code:\n\n    File \"c:\\Users\\bryan\\AppData\\Local\\Programs\\Python\\Python310\\lib\\site-packages\\keras\\engine\\training.py\", line 1051, in train_function  *\n        return step_function(self, iterator)\n    File \"c:\\Users\\bryan\\AppData\\Local\\Programs\\Python\\Python310\\lib\\site-packages\\keras\\engine\\training.py\", line 1040, in step_function  **\n        outputs = model.distribute_strategy.run(run_step, args=(data,))\n    File \"c:\\Users\\bryan\\AppData\\Local\\Programs\\Python\\Python310\\lib\\site-packages\\keras\\engine\\training.py\", line 1030, in run_step  **\n        outputs = model.train_step(data)\n    File \"c:\\Users\\bryan\\AppData\\Local\\Programs\\Python\\Python310\\lib\\site-packages\\keras\\engine\\training.py\", line 889, in train_step\n        y_pred = self(x, training=True)\n    File \"c:\\Users\\bryan\\AppData\\Local\\Programs\\Python\\Python310\\lib\\site-packages\\keras\\utils\\traceback_utils.py\", line 67, in error_handler\n        raise e.with_traceback(filtered_tb) from None\n    File \"c:\\Users\\bryan\\AppData\\Local\\Programs\\Python\\Python310\\lib\\site-packages\\keras\\engine\\input_spec.py\", line 228, in assert_input_compatibility\n        raise ValueError(f'Input {input_index} of layer \"{layer_name}\" '\n\n    ValueError: Exception encountered when calling layer \"sequential_4\" (type Sequential).\n    \n    Input 0 of layer \"dense_15\" is incompatible with the layer: expected min_ndim=2, found ndim=1. Full shape received: (32,)\n    \n    Call arguments received by layer \"sequential_4\" (type Sequential):\n      • inputs=tf.Tensor(shape=(32,), dtype=float32)\n      • training=True\n      • mask=None\n"
     ]
    }
   ],
   "source": [
    "print(\"Comenzando entrenamiento...\")\n",
    "historial = modelo.fit(x_train, y_train, epochs=100,verbose=1 )#\n",
    "print(\"Modelo entrenado!\")\n"
   ]
  },
  {
   "cell_type": "code",
   "execution_count": 70,
   "metadata": {},
   "outputs": [
    {
     "name": "stdout",
     "output_type": "stream",
     "text": [
      "4/4 [==============================] - 0s 2ms/step - loss: 1072.7639\n"
     ]
    },
    {
     "data": {
      "text/plain": [
       "1072.763916015625"
      ]
     },
     "execution_count": 70,
     "metadata": {},
     "output_type": "execute_result"
    }
   ],
   "source": [
    "#history = model.fit(x_train, y_train, epochs=100)\n",
    "test_results = modelo.evaluate(x_test, y_test, verbose=1)\n",
    "#test_results[1]\n",
    "test_results"
   ]
  },
  {
   "cell_type": "code",
   "execution_count": 25,
   "metadata": {},
   "outputs": [
    {
     "name": "stdout",
     "output_type": "stream",
     "text": [
      "<class 'str'>\n",
      "<class 'int'>\n"
     ]
    }
   ],
   "source": [
    "sf= '0'\n",
    "print(type(sf))\n",
    "#convertir a entero\n",
    "sf = int(sf)\n",
    "print(type(sf))\n",
    "\n"
   ]
  }
 ],
 "metadata": {
  "kernelspec": {
   "display_name": "Python 3.10.5 64-bit",
   "language": "python",
   "name": "python3"
  },
  "language_info": {
   "codemirror_mode": {
    "name": "ipython",
    "version": 3
   },
   "file_extension": ".py",
   "mimetype": "text/x-python",
   "name": "python",
   "nbconvert_exporter": "python",
   "pygments_lexer": "ipython3",
   "version": "3.10.5"
  },
  "orig_nbformat": 4,
  "vscode": {
   "interpreter": {
    "hash": "cfa538cd06c93e304ca575fcc7e49a96f6a8b18fe97e2a1aa2a1d32cf31b50ca"
   }
  }
 },
 "nbformat": 4,
 "nbformat_minor": 2
}
